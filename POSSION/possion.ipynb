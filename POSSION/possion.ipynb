{
 "cells": [
  {
   "cell_type": "code",
   "execution_count": 28,
   "metadata": {},
   "outputs": [],
   "source": [
    "import cv2\n",
    "import glob\n",
    "import os\n",
    "import numpy as np \n",
    "import dlib\n",
    "__DEBUG__ = False"
   ]
  },
  {
   "cell_type": "code",
   "execution_count": 2,
   "metadata": {},
   "outputs": [],
   "source": [
    "__DEBUG__ = True"
   ]
  },
  {
   "cell_type": "code",
   "execution_count": 3,
   "metadata": {},
   "outputs": [],
   "source": [
    "filename_src = \"./img/4.jpg\"\n",
    "filename_dst = \"./img/3.jpeg\"\n",
    "\n",
    "img_src = cv2.imread(filename_src)\n",
    "img_dst = cv2.imread(filename_dst)\n",
    "img_dst_warped = np.copy(img_dst)\n",
    "\n",
    "if(__DEBUG__):\n",
    "    cv2.imshow(\"src\",img_src)\n",
    "    cv2.imshow(\"dst\",img_dst)\n",
    "    cv2.waitKey(0)\n",
    "    cv2.destroyAllWindows()"
   ]
  },
  {
   "cell_type": "code",
   "execution_count": 4,
   "metadata": {},
   "outputs": [],
   "source": [
    "detector = dlib.get_frontal_face_detector()\n",
    "predictor = dlib.shape_predictor(\"shape_predictor_68_face_landmarks.dat\")\n",
    "def get_face_points(img,SHOW=False):\n",
    "    ret=[]\n",
    "    img_gray = cv2.cvtColor(img, cv2.COLOR_RGB2GRAY)\n",
    "    rects = detector(img_gray, 0)\n",
    "    for i in range(1): #qwq \n",
    "        landmarks = np.matrix([[p.x, p.y] for p in predictor(img,rects[i]).parts()])\n",
    "        for idx, point in enumerate(landmarks):\n",
    "            # 68点的坐标\n",
    "            pos = (point[0, 0], point[0, 1])\n",
    "            ret.append(pos)\n",
    "            if(SHOW):\n",
    "                print(idx,pos)\n",
    "                # 利用cv2.circle给每个特征点画一个圈，共68个\n",
    "                cv2.circle(img, pos, 1, color=(0, 255, 0))\n",
    "                # 利用cv2.putText输出1-68\n",
    "                font = cv2.FONT_HERSHEY_SIMPLEX\n",
    "                cv2.putText(img, str(idx+1), pos, font, 0.8, (0, 0, 255), 1,cv2.LINE_AA)\n",
    "    if(SHOW):\n",
    "        cv2.namedWindow(\"img\", 2)\n",
    "        cv2.imshow(\"img\", img)\n",
    "        cv2.waitKey(0)\n",
    "        cv2.destroyAllWindows()\n",
    "    return ret\n",
    "#得到68点模型\n",
    "points_src = get_face_points(img_src.copy(),False)\n",
    "points_dst = get_face_points(img_dst.copy())\n"
   ]
  },
  {
   "cell_type": "code",
   "execution_count": 5,
   "metadata": {},
   "outputs": [
    {
     "name": "stdout",
     "output_type": "stream",
     "text": [
      "[16 15 13 12 11 10  9  8  7  6  5  4  3  2  1  0 18 19 24 25 26]\n",
      "[(695, 403), (695, 436), (687, 503), (679, 536), (665, 565), (645, 588), (619, 606), (589, 613), (557, 609), (524, 592), (496, 569), (476, 541), (462, 509), (454, 475), (451, 440), (449, 405), (499, 388), (522, 388), (643, 387), (664, 386), (680, 397)]\n",
      "[(928, 404), (925, 452), (907, 545), (897, 594), (876, 638), (846, 676), (807, 701), (759, 708), (705, 699), (647, 675), (596, 641), (559, 598), (538, 545), (531, 488), (534, 430), (537, 375), (655, 321), (690, 313), (875, 334), (902, 345), (914, 371)]\n"
     ]
    }
   ],
   "source": [
    "#求凸包\n",
    "hull_pt_src = []\n",
    "hull_pt_dst = []\n",
    "hull_pt_indices = cv2.convexHull(np.array(points_dst),\n",
    "                                 returnPoints = False)\n",
    "hull_pt_indices = hull_pt_indices.flatten()\n",
    "\n",
    "for idx_pt in hull_pt_indices:\n",
    "    hull_pt_src.append(points_src[idx_pt])\n",
    "    hull_pt_dst.append(points_dst[idx_pt])\n",
    "if(__DEBUG__):\n",
    "    print(hull_pt_indices)\n",
    "    print(hull_pt_src)\n",
    "    print(hull_pt_dst)"
   ]
  },
  {
   "cell_type": "code",
   "execution_count": 6,
   "metadata": {},
   "outputs": [],
   "source": [
    "#狄洛尼三角剖分\n",
    "# 检查点pt是否在矩形rect内\n",
    "def rect_contains(rect, point):\n",
    "    if point[0] < rect[0]:\n",
    "        return False\n",
    "    elif point[1] < rect[1]:\n",
    "        return False\n",
    "    elif point[0] > rect[2]:\n",
    "        return False\n",
    "    elif point[1] > rect[3]:\n",
    "        return False\n",
    "    return True\n",
    "\n",
    "def cal_delaunay_tri(rect, points):\n",
    "    \"\"\"计算狄洛尼三角剖分\"\"\"\n",
    "    \n",
    "    subdiv = cv2.Subdiv2D(rect);\n",
    "\n",
    "    # 逐点插入\n",
    "    for pt in points:\n",
    "        # subdiv.insert 输入类型：tuplezz\n",
    "        subdiv.insert(tuple(pt))\n",
    "\n",
    "    lst_tri = subdiv.getTriangleList();\n",
    "\n",
    "    # 狄洛尼三角网格顶点索引\n",
    "    lst_delaunay_tri_pt_indices = []\n",
    "\n",
    "    for tri in lst_tri:\n",
    "        lst_tri_pts = [(tri[0], tri[1])]\n",
    "        lst_tri_pts.append((tri[2], tri[3]))\n",
    "        lst_tri_pts.append((tri[4], tri[5]))\n",
    "        \n",
    "        # 查询三角网格顶点索引\n",
    "        lst_pt_indices = []\n",
    "        for tri_pt in lst_tri_pts:\n",
    "\n",
    "            for idx_pt in range(len(points)):\n",
    "\n",
    "                if (abs(tri_pt[0] - points[idx_pt][0]) < 1) and \\\n",
    "                    (abs(tri_pt[1] - points[idx_pt][1]) < 1):\n",
    "                    lst_pt_indices.append(idx_pt)\n",
    "\n",
    "        lst_delaunay_tri_pt_indices.append(lst_pt_indices)\n",
    "\n",
    "    return lst_delaunay_tri_pt_indices"
   ]
  },
  {
   "cell_type": "code",
   "execution_count": 7,
   "metadata": {},
   "outputs": [],
   "source": [
    "size_img_dst = img_dst.shape\n",
    "rect = (0, 0, size_img_dst[1], size_img_dst[0])\n",
    "\n",
    "# 狄洛尼三角索引对应凸包顶点索引，与面部关键点索引不同\n",
    "lst_delaunay_tri_pt_indices = cal_delaunay_tri(rect, hull_pt_dst)\n",
    "\n",
    "\n",
    "size_img_src = img_src.shape\n",
    "rect = (0, 0, size_img_src[1], size_img_src[0])\n",
    "\n",
    "# 狄洛尼三角索引对应凸包顶点索引，与面部关键点索引不同\n",
    "src_delaunay_tri_pt_indices = cal_delaunay_tri(rect, hull_pt_src)"
   ]
  },
  {
   "cell_type": "code",
   "execution_count": 8,
   "metadata": {},
   "outputs": [
    {
     "name": "stdout",
     "output_type": "stream",
     "text": [
      "[[4, 8, 3], [8, 4, 7], [1, 18, 20], [18, 1, 17], [7, 4, 5], [0, 1, 20], [1, 2, 17], [2, 3, 8], [7, 5, 6], [2, 8, 9], [2, 9, 10], [2, 10, 17], [10, 12, 17], [12, 10, 11], [13, 17, 12], [17, 13, 16], [16, 13, 14], [16, 14, 15], [20, 18, 19]]\n",
      "19\n",
      "[[5, 7, 8], [7, 5, 6], [5, 8, 9], [0, 1, 20], [1, 2, 18], [2, 3, 10], [5, 9, 4], [3, 4, 9], [3, 9, 10], [2, 10, 11], [2, 11, 17], [17, 11, 12], [13, 17, 12], [17, 13, 14], [17, 14, 16], [2, 17, 18], [16, 14, 15], [1, 18, 20], [20, 18, 19], [18, 17, 19], [19, 0, 20]]\n",
      "21\n"
     ]
    }
   ],
   "source": [
    "print(lst_delaunay_tri_pt_indices)\n",
    "print(len(lst_delaunay_tri_pt_indices))\n",
    "print(src_delaunay_tri_pt_indices)\n",
    "print(len(src_delaunay_tri_pt_indices))\n"
   ]
  },
  {
   "cell_type": "code",
   "execution_count": 9,
   "metadata": {},
   "outputs": [],
   "source": [
    "def warp_affine(img_src, tri_src, tri_dst, size):\n",
    "    \"\"\"仿射\"\"\"\n",
    "\n",
    "    # 仿射矩阵\n",
    "    mat_warp = cv2.getAffineTransform(np.float32(tri_src), np.float32(tri_dst))\n",
    "\n",
    "    # 仿射变换\n",
    "    img_dst = cv2.warpAffine(img_src, mat_warp, (size[0], size[1]), None,\n",
    "                             flags=cv2.INTER_LINEAR,\n",
    "                             borderMode=cv2.BORDER_REFLECT_101)\n",
    "\n",
    "    return img_dst\n",
    "\n",
    "\n",
    "#----------------------------------------------------------------------\n",
    "def warp_tri(img_src, img_dst, tri_src, tri_dst, alpha=1) :\n",
    "    \"\"\"仿射三角剖分，源图像到目标图像\"\"\"\n",
    "\n",
    "    # 三角区域框\n",
    "    rect_src = cv2.boundingRect(np.array(tri_src))\n",
    "    rect_dst = cv2.boundingRect(np.array(tri_dst))\n",
    "    \n",
    "    # 三角形顶点相对于三角区域框的偏移\n",
    "    tri_src_to_rect = [(item[0] - rect_src[0], item[1] - rect_src[1])\n",
    "                       for item in tri_src]\n",
    "    tri_dst_to_rect = [(item[0] - rect_dst[0], item[1] - rect_dst[1])\n",
    "                       for item in tri_dst]\n",
    "    \n",
    "    # 蒙板\n",
    "    mask = np.zeros((rect_dst[3], rect_dst[2], 3), dtype = np.float32)\n",
    "    cv2.fillConvexPoly(mask, np.array(tri_dst_to_rect), (1, 1, 1), 16, 0)\n",
    "    \n",
    "    # 截取三角区域框中的源图像\n",
    "    img_src_rect = img_src[rect_src[1] : rect_src[1] + rect_src[3],\n",
    "                           rect_src[0] : rect_src[0] + rect_src[2]]\n",
    "    \n",
    "    size = (rect_dst[2], rect_dst[3])\n",
    "    \n",
    "    # 三角区域框仿射\n",
    "    img_src_rect_warpped = warp_affine(img_src_rect, tri_src_to_rect, tri_dst_to_rect, size)\n",
    "    \n",
    "    # 蒙板 * 透明度\n",
    "    mask *= alpha\n",
    "    # 目标图像 = 目标图像 * (1 - 蒙板) + 源图像 * 蒙板\n",
    "    img_dst[rect_dst[1] : rect_dst[1] + rect_dst[3],\n",
    "            rect_dst[0] : rect_dst[0] + rect_dst[2]] = \\\n",
    "        img_dst[rect_dst[1] : rect_dst[1] + rect_dst[3],\n",
    "                rect_dst[0] : rect_dst[0] + rect_dst[2]] * (1 - mask) + \\\n",
    "        img_src_rect_warpped * mask"
   ]
  },
  {
   "cell_type": "code",
   "execution_count": 10,
   "metadata": {},
   "outputs": [],
   "source": [
    "# 狄洛尼三角剖分仿射\n",
    "for tri_pt_indices in lst_delaunay_tri_pt_indices:\n",
    "    \n",
    "    # 源图像、目标图像三角顶点坐标\n",
    "    tri_src = [hull_pt_src[tri_pt_indices[idx]] for idx in range(3)]\n",
    "    tri_dst = [hull_pt_dst[tri_pt_indices[idx]] for idx in range(3)]\n",
    "\n",
    "    warp_tri(img_src, img_dst_warped, tri_src, tri_dst, 1)\n",
    "    \n",
    "# cv2.imshow(\"dst\",img_dst)\n",
    "# cv2.waitKey(0)\n",
    "# cv2.destroyAllWindows(img_dst_warped)\n",
    "# print(img_dst_warped)"
   ]
  },
  {
   "cell_type": "code",
   "execution_count": 11,
   "metadata": {},
   "outputs": [],
   "source": [
    "if __DEBUG__:\n",
    "    cv2.imshow(\"dst\",img_dst_warped)\n",
    "    cv2.waitKey(0)\n",
    "    cv2.destroyAllWindows()"
   ]
  },
  {
   "cell_type": "code",
   "execution_count": 12,
   "metadata": {},
   "outputs": [],
   "source": [
    "# 消除肤色差异 泊松\n",
    "mask = np.zeros(img_dst.shape, dtype=img_dst.dtype)\n",
    "cv2.fillConvexPoly(mask, np.array(hull_pt_dst), (255, 255, 255))\n",
    "\n",
    "rect = cv2.boundingRect(np.float32([hull_pt_dst]))\n",
    "\n",
    "center = (rect[0] + rect[2] // 2, rect[1] + rect[3] // 2)\n",
    "# NORMAL:\n",
    "img_dst_src_grad = cv2.seamlessClone(img_dst_warped, img_dst,\n",
    "                                     mask, center, cv2.NORMAL_CLONE)\n",
    "# MIXED：\n",
    "img_dst_mix_grad = cv2.seamlessClone(img_dst_warped, img_dst,\n",
    "                                     mask, center, cv2.MIXED_CLONE)\n",
    "# MONOCHROME_TRANSFER\n",
    "img_dst_mono_grad = cv2.seamlessClone(img_dst_warped, img_dst,\n",
    "                                     mask, center, cv2.MONOCHROME_TRANSFER)\n"
   ]
  },
  {
   "cell_type": "raw",
   "metadata": {},
   "source": [
    "NORMAL_CLONE \n",
    "Python: cv.NORMAL_CLONE\n",
    "The power of the method is fully expressed when inserting objects with complex outlines into a new background\n",
    "\n",
    "MIXED_CLONE \n",
    "Python: cv.MIXED_CLONE\n",
    "The classic method, color-based selection and alpha masking might be time consuming and often leaves an undesirable halo. Seamless cloning, even averaged with the original image, is not effective. Mixed seamless cloning based on a loose selection proves effective.\n",
    "\n",
    "MONOCHROME_TRANSFER \n",
    "Python: cv.MONOCHROME_TRANSFER\n",
    "Monochrome transfer allows the user to easily replace certain features of one object by alternative features."
   ]
  },
  {
   "cell_type": "code",
   "execution_count": 13,
   "metadata": {},
   "outputs": [],
   "source": [
    "if __DEBUG__:\n",
    "    imgs=[img_src, img_dst, img_dst_warped, img_dst_src_grad, img_dst_mix_grad, img_dst_mono_grad]\n",
    "    for i in range(len(imgs)):\n",
    "        cv2.imwrite('temp/image'+str(i+1)+'.png',imgs[i])\n",
    "    \n",
    "else:\n",
    "    res = 'result\\\\'\n",
    "    cv2.imwrite(res+'result_1.png',img_dst_mono_grad )\n",
    "#     cv2.imwrite(res+'result_2.png',img_dst_mix_grad)\n",
    "#     cv2.imwrite(res+'result_3.png',img_dst_src_grad)"
   ]
  },
  {
   "cell_type": "code",
   "execution_count": null,
   "metadata": {},
   "outputs": [],
   "source": []
  }
 ],
 "metadata": {
  "kernelspec": {
   "name": "python3",
   "display_name": "Python 3.8.10 64-bit",
   "metadata": {
    "interpreter": {
     "hash": "9499d284cdd33cf876fe97561f39476e2e5ab93fd7a683f100fa670e9359b303"
    }
   }
  },
  "language_info": {
   "codemirror_mode": {
    "name": "ipython",
    "version": 3
   },
   "file_extension": ".py",
   "mimetype": "text/x-python",
   "name": "python",
   "nbconvert_exporter": "python",
   "pygments_lexer": "ipython3",
   "version": "3.8.10"
  }
 },
 "nbformat": 4,
 "nbformat_minor": 2
}